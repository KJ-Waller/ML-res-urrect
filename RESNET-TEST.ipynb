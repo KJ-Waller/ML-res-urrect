{
 "cells": [
  {
   "cell_type": "code",
   "execution_count": 1,
   "metadata": {},
   "outputs": [],
   "source": [
    "import torch\n",
    "import torch.nn as nn\n",
    "import torch.nn.functional as F\n",
    "import torchvision"
   ]
  },
  {
   "cell_type": "code",
   "execution_count": 2,
   "metadata": {},
   "outputs": [],
   "source": [
    "device = torch.device('cuda:0' if torch.cuda.is_available() else 'cpu')"
   ]
  },
  {
   "cell_type": "code",
   "execution_count": 40,
   "metadata": {},
   "outputs": [
    {
     "name": "stdout",
     "output_type": "stream",
     "text": [
      "Files already downloaded and verified\n"
     ]
    }
   ],
   "source": [
    "# Image preprocessing modules\n",
    "transform = torchvision.transforms.Compose([\n",
    "    torchvision.transforms.Pad(4),\n",
    "    torchvision.transforms.RandomHorizontalFlip(),\n",
    "    torchvision.transforms.RandomCrop(32),\n",
    "    torchvision.transforms.ToTensor()])\n",
    "\n",
    "train_set = torchvision.datasets.CIFAR10('./data/', train=True, transform=transform, download=True)\n",
    "test_set = torchvision.datasets.CIFAR10('./data/', train=False, transform=transform)"
   ]
  },
  {
   "cell_type": "code",
   "execution_count": 41,
   "metadata": {},
   "outputs": [],
   "source": [
    "num_epochs = 5\n",
    "batch_size = 50\n",
    "num_classes = 10\n",
    "learning_rate = 0.001 #68%\n",
    "# learning_rate = 0.0001 #61%"
   ]
  },
  {
   "cell_type": "code",
   "execution_count": 50,
   "metadata": {},
   "outputs": [],
   "source": [
    "class ResBlock(nn.Module):\n",
    "    def __init__(self, in_channels, out_channels):\n",
    "        super(ResBlock, self).__init__()\n",
    "        \n",
    "        self.conv = nn.Conv2d(in_channels, out_channels, 1, 1, 0)\n",
    "        \n",
    "        self.layer1 = nn.Sequential(\n",
    "            nn.Conv2d(in_channels, out_channels, 3, 1, 1),\n",
    "            nn.Conv2d(out_channels, out_channels, 3, 1, 1),\n",
    "            nn.BatchNorm2d(out_channels)\n",
    "        )\n",
    "        \n",
    "        self.inchannels = in_channels\n",
    "        self.outchannels = out_channels\n",
    "        \n",
    "    def forward(self, x):\n",
    "        residual = x\n",
    "        \n",
    "        if self.inchannels != self.outchannels:\n",
    "            residual = self.conv(x)\n",
    "            \n",
    "        x = self.layer1(x)\n",
    "        x += residual\n",
    "        x = F.relu(x)\n",
    "        \n",
    "        return x\n",
    "        \n",
    "    \n",
    "    \n",
    "class CIFARNET(nn.Module):\n",
    "    \n",
    "    def __init__(self, num_classes=10):\n",
    "        super(CIFARNET, self).__init__()\n",
    "        \n",
    "        self.reslayer1 = nn.Sequential(\n",
    "            ResBlock(3, 128),\n",
    "            ResBlock(128, 128),\n",
    "            ResBlock(128, 256),\n",
    "            nn.MaxPool2d(2),\n",
    "            ResBlock(256, 128),\n",
    "            nn.MaxPool2d(2),\n",
    "            ResBlock(128, 128),\n",
    "            nn.MaxPool2d(2)\n",
    "        )\n",
    "        \n",
    "#         self.layer1 = nn.Sequential( #74.08 %\n",
    "#             nn.Conv2d(3, 128, 3, 1, 1),\n",
    "#             nn.Conv2d(128, 128, 3, 1, 1),\n",
    "#             nn.BatchNorm2d(128),\n",
    "#             nn.Conv2d(128, 128, 3, 1, 1),\n",
    "#             nn.Conv2d(128, 128, 3, 1, 1),\n",
    "#             nn.BatchNorm2d(128),\n",
    "#             nn.Conv2d(128, 256, 3, 1, 1),\n",
    "#             nn.Conv2d(256, 256, 3, 1, 1),\n",
    "#             nn.BatchNorm2d(256),\n",
    "#             nn.MaxPool2d(2), # Output 4\n",
    "#             nn.Conv2d(256, 128, 3, 1, 1),\n",
    "#             nn.Conv2d(128, 128, 3, 1, 1),\n",
    "#             nn.BatchNorm2d(128),\n",
    "#             nn.MaxPool2d(2), # Output 4\n",
    "#             nn.Conv2d(128, 128, 3, 1, 1),\n",
    "#             nn.Conv2d(128, 128, 3, 1, 1),\n",
    "#             nn.BatchNorm2d(128),\n",
    "#             nn.MaxPool2d(2), # Output 2\n",
    "#         )\n",
    "        \n",
    "        self.fc1 = nn.Linear(4*4*128, 4096)\n",
    "        self.fc2 = nn.Linear(4096, 1000)\n",
    "        self.fc3 = nn.Linear(1000, num_classes)\n",
    "        \n",
    "    def forward(self, x):\n",
    "        x = self.reslayer1(x)\n",
    "        x = x.reshape(x.size(0), -1)\n",
    "        x = self.fc1(x)\n",
    "        x = self.fc2(x)\n",
    "        x = self.fc3(x)\n",
    "#         x = F.relu(self.fc3(x))\n",
    "        return x\n",
    "    \n",
    "model = CIFARNET(num_classes).to(device)"
   ]
  },
  {
   "cell_type": "code",
   "execution_count": 51,
   "metadata": {},
   "outputs": [],
   "source": [
    "train_loader = torch.utils.data.DataLoader(dataset=train_set, batch_size=batch_size, shuffle=True)\n",
    "test_loader = torch.utils.data.DataLoader(dataset=test_set, batch_size=batch_size, shuffle=False)"
   ]
  },
  {
   "cell_type": "code",
   "execution_count": 52,
   "metadata": {},
   "outputs": [],
   "source": [
    "criterion = nn.CrossEntropyLoss()\n",
    "optimizer = torch.optim.Adam(model.parameters(), lr=learning_rate)"
   ]
  },
  {
   "cell_type": "code",
   "execution_count": 53,
   "metadata": {},
   "outputs": [
    {
     "name": "stdout",
     "output_type": "stream",
     "text": [
      "Epoch [1/5], Step [100/1000], Loss: 2.4474\n",
      "Epoch [1/5], Step [200/1000], Loss: 2.1181\n",
      "Epoch [1/5], Step [300/1000], Loss: 1.7921\n",
      "Epoch [1/5], Step [400/1000], Loss: 1.7022\n",
      "Epoch [1/5], Step [500/1000], Loss: 1.9487\n",
      "Epoch [1/5], Step [600/1000], Loss: 1.6990\n",
      "Epoch [1/5], Step [700/1000], Loss: 1.6657\n",
      "Epoch [1/5], Step [800/1000], Loss: 1.4357\n",
      "Epoch [1/5], Step [900/1000], Loss: 1.8423\n",
      "Epoch [1/5], Step [1000/1000], Loss: 1.5392\n",
      "Epoch [2/5], Step [100/1000], Loss: 1.4803\n",
      "Epoch [2/5], Step [200/1000], Loss: 1.4190\n",
      "Epoch [2/5], Step [300/1000], Loss: 1.5567\n",
      "Epoch [2/5], Step [400/1000], Loss: 1.4633\n",
      "Epoch [2/5], Step [500/1000], Loss: 1.3907\n",
      "Epoch [2/5], Step [600/1000], Loss: 1.4967\n",
      "Epoch [2/5], Step [700/1000], Loss: 1.3023\n",
      "Epoch [2/5], Step [800/1000], Loss: 1.3699\n",
      "Epoch [2/5], Step [900/1000], Loss: 1.6012\n",
      "Epoch [2/5], Step [1000/1000], Loss: 1.3918\n",
      "Epoch [3/5], Step [100/1000], Loss: 1.3249\n",
      "Epoch [3/5], Step [200/1000], Loss: 1.1818\n",
      "Epoch [3/5], Step [300/1000], Loss: 1.1038\n",
      "Epoch [3/5], Step [400/1000], Loss: 1.3626\n",
      "Epoch [3/5], Step [500/1000], Loss: 1.0539\n",
      "Epoch [3/5], Step [600/1000], Loss: 1.1866\n",
      "Epoch [3/5], Step [700/1000], Loss: 1.1460\n",
      "Epoch [3/5], Step [800/1000], Loss: 1.1786\n",
      "Epoch [3/5], Step [900/1000], Loss: 1.0670\n",
      "Epoch [3/5], Step [1000/1000], Loss: 1.0852\n",
      "Epoch [4/5], Step [100/1000], Loss: 0.9338\n",
      "Epoch [4/5], Step [200/1000], Loss: 1.0264\n",
      "Epoch [4/5], Step [300/1000], Loss: 1.0658\n",
      "Epoch [4/5], Step [400/1000], Loss: 1.1960\n",
      "Epoch [4/5], Step [500/1000], Loss: 0.9400\n",
      "Epoch [4/5], Step [600/1000], Loss: 0.9080\n",
      "Epoch [4/5], Step [700/1000], Loss: 1.0416\n",
      "Epoch [4/5], Step [800/1000], Loss: 0.9397\n",
      "Epoch [4/5], Step [900/1000], Loss: 0.9325\n",
      "Epoch [4/5], Step [1000/1000], Loss: 1.0268\n",
      "Epoch [5/5], Step [100/1000], Loss: 0.8131\n",
      "Epoch [5/5], Step [200/1000], Loss: 0.8409\n",
      "Epoch [5/5], Step [300/1000], Loss: 0.6769\n",
      "Epoch [5/5], Step [400/1000], Loss: 1.3142\n",
      "Epoch [5/5], Step [500/1000], Loss: 0.6246\n",
      "Epoch [5/5], Step [600/1000], Loss: 1.1367\n",
      "Epoch [5/5], Step [700/1000], Loss: 0.7478\n",
      "Epoch [5/5], Step [800/1000], Loss: 0.7771\n",
      "Epoch [5/5], Step [900/1000], Loss: 0.9036\n",
      "Epoch [5/5], Step [1000/1000], Loss: 0.9517\n"
     ]
    }
   ],
   "source": [
    "total_step = len(train_loader)\n",
    "\n",
    "model.train()\n",
    "for epoch in range(num_epochs):\n",
    "    for i, (images, labels) in enumerate(train_loader):\n",
    "        images = images.to(device)\n",
    "        labels = labels.to(device)\n",
    "        \n",
    "        # Forward\n",
    "        output = model(images)\n",
    "        loss = criterion(output, labels)\n",
    "        \n",
    "        # Backprop and Gradient Descent\n",
    "        optimizer.zero_grad()\n",
    "        loss.backward()\n",
    "        optimizer.step()\n",
    "        \n",
    "        # Print out current progress of training\n",
    "        if (i+1) % 100 == 0:\n",
    "            print('Epoch [{}/{}], Step [{}/{}], Loss: {:.4f}'.format(epoch+1, num_epochs, i+1, total_step, loss.item()))"
   ]
  },
  {
   "cell_type": "code",
   "execution_count": 54,
   "metadata": {},
   "outputs": [
    {
     "name": "stdout",
     "output_type": "stream",
     "text": [
      "Test Accuracy of the model on the 10000 test images: 68.8 %\n"
     ]
    }
   ],
   "source": [
    "# Test the model\n",
    "model.eval()  # eval mode (batchnorm uses moving mean/variance instead of mini-batch mean/variance)\n",
    "with torch.no_grad():\n",
    "    correct = 0\n",
    "    total = 0\n",
    "    for images, labels in test_loader:\n",
    "        images = images.to(device)\n",
    "        labels = labels.to(device)\n",
    "        outputs = model(images)\n",
    "        _, predicted = torch.max(outputs.data, 1)\n",
    "        total += labels.size(0)\n",
    "        correct += (predicted == labels).sum().item()\n",
    "\n",
    "    print('Test Accuracy of the model on the 10000 test images: {} %'.format(100 * correct / total))"
   ]
  },
  {
   "cell_type": "code",
   "execution_count": null,
   "metadata": {},
   "outputs": [],
   "source": []
  }
 ],
 "metadata": {
  "kernelspec": {
   "display_name": "Python 3",
   "language": "python",
   "name": "python3"
  },
  "language_info": {
   "codemirror_mode": {
    "name": "ipython",
    "version": 3
   },
   "file_extension": ".py",
   "mimetype": "text/x-python",
   "name": "python",
   "nbconvert_exporter": "python",
   "pygments_lexer": "ipython3",
   "version": "3.6.8"
  }
 },
 "nbformat": 4,
 "nbformat_minor": 2
}
